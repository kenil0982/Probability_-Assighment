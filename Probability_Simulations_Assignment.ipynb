{
 "cells": [
  {
   "cell_type": "markdown",
   "id": "2a87830a",
   "metadata": {},
   "source": [
    "### Part 1: Basics of Probability\n",
    "**Coin Toss & Dice Roll Simulation**"
   ]
  },
  {
   "cell_type": "code",
   "execution_count": null,
   "id": "5d10de96",
   "metadata": {},
   "outputs": [],
   "source": [
    "import random\n",
    "\n",
    "def coin_toss_simulation(trials=10000):\n",
    "    outcomes = {'Heads': 0, 'Tails': 0}\n",
    "    for _ in range(trials):\n",
    "        toss = random.choice(['Heads', 'Tails'])\n",
    "        outcomes[toss] += 1\n",
    "    print(\"Coin Toss Simulation:\")\n",
    "    for outcome in outcomes:\n",
    "        print(f\"{outcome}: {outcomes[outcome]/trials:.4f}\")\n",
    "\n",
    "coin_toss_simulation()\n",
    "\n",
    "def dice_roll_simulation(trials=10000):\n",
    "    count_7 = 0\n",
    "    for _ in range(trials):\n",
    "        dice1 = random.randint(1, 6)\n",
    "        dice2 = random.randint(1, 6)\n",
    "        if dice1 + dice2 == 7:\n",
    "            count_7 += 1\n",
    "    print(f\"\\nProbability of sum=7: {count_7/trials:.4f}\")\n",
    "\n",
    "dice_roll_simulation()"
   ]
  },
  {
   "cell_type": "markdown",
   "id": "3e57a6db",
   "metadata": {},
   "source": [
    "### Part 2: Probability of At Least One 6"
   ]
  },
  {
   "cell_type": "code",
   "execution_count": null,
   "id": "d50d2c48",
   "metadata": {},
   "outputs": [],
   "source": [
    "def prob_at_least_one_six(trials=10000):\n",
    "    success = 0\n",
    "    for _ in range(trials):\n",
    "        rolls = [random.randint(1, 6) for _ in range(10)]\n",
    "        if 6 in rolls:\n",
    "            success += 1\n",
    "    print(f\"\\nProbability of at least one 6 in 10 rolls: {success/trials:.4f}\")\n",
    "\n",
    "prob_at_least_one_six()"
   ]
  },
  {
   "cell_type": "markdown",
   "id": "1338aab2",
   "metadata": {},
   "source": [
    "### Part 3: Conditional Probability and Bayes' Theorem"
   ]
  },
  {
   "cell_type": "code",
   "execution_count": null,
   "id": "729d42af",
   "metadata": {},
   "outputs": [],
   "source": [
    "def conditional_prob_simulation(trials=1000):\n",
    "    colors = ['Red'] * 5 + ['Green'] * 7 + ['Blue'] * 8\n",
    "    prev_color = None\n",
    "    total_prev_blue = 0\n",
    "    red_given_blue = 0\n",
    "\n",
    "    for _ in range(trials):\n",
    "        current = random.choice(colors)\n",
    "        if prev_color == 'Blue':\n",
    "            total_prev_blue += 1\n",
    "            if current == 'Red':\n",
    "                red_given_blue += 1\n",
    "        prev_color = current\n",
    "\n",
    "    if total_prev_blue > 0:\n",
    "        conditional_prob = red_given_blue / total_prev_blue\n",
    "    else:\n",
    "        conditional_prob = 0\n",
    "\n",
    "    print(f\"\\nP(Red | Blue before): {conditional_prob:.4f}\")\n",
    "    print(f\"P(Blue) * P(Red) = {(8/20)*(5/20):.4f}  (Bayes Check)\")\n",
    "\n",
    "conditional_prob_simulation()"
   ]
  },
  {
   "cell_type": "markdown",
   "id": "9c61d629",
   "metadata": {},
   "source": [
    "### Part 4: Discrete Random Variable Sample"
   ]
  },
  {
   "cell_type": "code",
   "execution_count": null,
   "id": "5875a8aa",
   "metadata": {},
   "outputs": [],
   "source": [
    "import numpy as np\n",
    "\n",
    "def discrete_rv_stats():\n",
    "    values = [1, 2, 3]\n",
    "    probs = [0.25, 0.35, 0.4]\n",
    "    sample = np.random.choice(values, size=1000, p=probs)\n",
    "\n",
    "    mean = np.mean(sample)\n",
    "    var = np.var(sample)\n",
    "    std = np.std(sample)\n",
    "\n",
    "    print(f\"\\nEmpirical Mean: {mean:.4f}\")\n",
    "    print(f\"Empirical Variance: {var:.4f}\")\n",
    "    print(f\"Empirical Std Dev: {std:.4f}\")\n",
    "\n",
    "discrete_rv_stats()"
   ]
  },
  {
   "cell_type": "markdown",
   "id": "81ace2ac",
   "metadata": {},
   "source": [
    "### Part 5: Exponential Distribution Visualization"
   ]
  },
  {
   "cell_type": "code",
   "execution_count": null,
   "id": "48a6b82b",
   "metadata": {},
   "outputs": [],
   "source": [
    "import matplotlib.pyplot as plt\n",
    "import seaborn as sns\n",
    "\n",
    "def exponential_distribution():\n",
    "    data = np.random.exponential(scale=5, size=2000)\n",
    "\n",
    "    plt.figure(figsize=(10, 6))\n",
    "    sns.histplot(data, bins=50, kde=True, stat=\"density\", color='skyblue')\n",
    "    plt.title(\"Exponential Distribution (λ = 1/5)\")\n",
    "    plt.xlabel(\"Value\")\n",
    "    plt.ylabel(\"Density\")\n",
    "    plt.grid(True)\n",
    "    plt.show()\n",
    "\n",
    "exponential_distribution()"
   ]
  },
  {
   "cell_type": "markdown",
   "id": "718bc55b",
   "metadata": {},
   "source": [
    "### Part 6: Central Limit Theorem Simulation"
   ]
  },
  {
   "cell_type": "code",
   "execution_count": null,
   "id": "e94e0932",
   "metadata": {},
   "outputs": [],
   "source": [
    "def clt_simulation():\n",
    "    data = np.random.uniform(0, 1, 10000)\n",
    "\n",
    "    sample_means = []\n",
    "    for _ in range(1000):\n",
    "        sample = np.random.choice(data, size=30)\n",
    "        sample_means.append(np.mean(sample))\n",
    "\n",
    "    plt.figure(figsize=(12, 6))\n",
    "    plt.subplot(1, 2, 1)\n",
    "    sns.histplot(data, bins=50, color='orange', kde=True)\n",
    "    plt.title(\"Original Uniform Distribution\")\n",
    "\n",
    "    plt.subplot(1, 2, 2)\n",
    "    sns.histplot(sample_means, bins=50, color='green', kde=True)\n",
    "    plt.title(\"Distribution of Sample Means (CLT)\")\n",
    "\n",
    "    plt.tight_layout()\n",
    "    plt.show()\n",
    "\n",
    "clt_simulation()"
   ]
  }
 ],
 "metadata": {},
 "nbformat": 4,
 "nbformat_minor": 5
}